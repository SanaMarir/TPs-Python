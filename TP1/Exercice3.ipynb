{
  "nbformat": 4,
  "nbformat_minor": 0,
  "metadata": {
    "colab": {
      "provenance": []
    },
    "kernelspec": {
      "name": "python3",
      "display_name": "Python 3"
    },
    "language_info": {
      "name": "python"
    }
  },
  "cells": [
    {
      "cell_type": "markdown",
      "source": [
        "# Exercice 3"
      ],
      "metadata": {
        "id": "CfOoeU_cTUPd"
      }
    },
    {
      "cell_type": "code",
      "execution_count": 3,
      "metadata": {
        "colab": {
          "base_uri": "https://localhost:8080/"
        },
        "id": "CRFW-AGPTOYd",
        "outputId": "5fdb0872-daa7-4ffb-81c3-61e0c7e4083e"
      },
      "outputs": [
        {
          "output_type": "stream",
          "name": "stdout",
          "text": [
            "{2, 3}\n",
            "set()\n"
          ]
        }
      ],
      "source": [
        "def intersection(ensemble1, ensemble2):\n",
        "    resultat = set()\n",
        "    for element in ensemble1:\n",
        "        if element in ensemble2:\n",
        "            resultat.add(element)\n",
        "    return resultat\n",
        "\n",
        "# Test\n",
        "print(intersection({1, 2, 3}, {2, 3, 4}))\n",
        "print(intersection({1, 2, 3}, {4, 5}))\n",
        ""
      ]
    },
    {
      "cell_type": "markdown",
      "source": [
        "ou"
      ],
      "metadata": {
        "id": "qh-4xVEjTfZo"
      }
    },
    {
      "cell_type": "code",
      "source": [
        "def intersection(ensemble1, ensemble2):\n",
        "    return ensemble1.intersection(ensemble2)\n",
        "\n",
        "# Test\n",
        "print(intersection({1, 2, 3}, {2, 3, 4}))\n",
        "print(intersection({1, 2, 3}, {4, 5}))"
      ],
      "metadata": {
        "colab": {
          "base_uri": "https://localhost:8080/"
        },
        "id": "q6lpV569TgOU",
        "outputId": "c392e49d-3194-4161-a04f-49a332d09b98"
      },
      "execution_count": 4,
      "outputs": [
        {
          "output_type": "stream",
          "name": "stdout",
          "text": [
            "{2, 3}\n",
            "set()\n"
          ]
        }
      ]
    }
  ]
}