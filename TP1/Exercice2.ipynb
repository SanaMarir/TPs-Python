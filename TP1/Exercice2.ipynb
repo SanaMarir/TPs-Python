{
  "nbformat": 4,
  "nbformat_minor": 0,
  "metadata": {
    "colab": {
      "provenance": []
    },
    "kernelspec": {
      "name": "python3",
      "display_name": "Python 3"
    },
    "language_info": {
      "name": "python"
    }
  },
  "cells": [
    {
      "cell_type": "markdown",
      "source": [
        "# Exercice 2"
      ],
      "metadata": {
        "id": "CfOoeU_cTUPd"
      }
    },
    {
      "cell_type": "code",
      "execution_count": 1,
      "metadata": {
        "colab": {
          "base_uri": "https://localhost:8080/"
        },
        "id": "CRFW-AGPTOYd",
        "outputId": "d89216ec-dada-4893-f882-d91ea2a96f15"
      },
      "outputs": [
        {
          "output_type": "stream",
          "name": "stdout",
          "text": [
            "5\n"
          ]
        }
      ],
      "source": [
        "def max_tuple(t):\n",
        "    maximum = t[0]\n",
        "    for nombre in t:\n",
        "        if nombre > maximum:\n",
        "            maximum = nombre\n",
        "    return maximum\n",
        "\n",
        "# Test\n",
        "print(max_tuple((1, 5, 3)))"
      ]
    },
    {
      "cell_type": "markdown",
      "source": [
        "ou"
      ],
      "metadata": {
        "id": "qh-4xVEjTfZo"
      }
    },
    {
      "cell_type": "code",
      "source": [
        "def max_tuple(t):\n",
        "    return max(t)\n",
        "\n",
        "# Test\n",
        "print(max_tuple((1, 5, 3)))\n",
        ""
      ],
      "metadata": {
        "colab": {
          "base_uri": "https://localhost:8080/"
        },
        "id": "q6lpV569TgOU",
        "outputId": "44b44a06-4560-43fa-b042-2674d7bb60b0"
      },
      "execution_count": 2,
      "outputs": [
        {
          "output_type": "stream",
          "name": "stdout",
          "text": [
            "5\n"
          ]
        }
      ]
    }
  ]
}