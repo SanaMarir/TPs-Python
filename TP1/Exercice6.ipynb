{
  "nbformat": 4,
  "nbformat_minor": 0,
  "metadata": {
    "colab": {
      "provenance": []
    },
    "kernelspec": {
      "name": "python3",
      "display_name": "Python 3"
    },
    "language_info": {
      "name": "python"
    }
  },
  "cells": [
    {
      "cell_type": "markdown",
      "source": [
        "# Exercice 6\n",
        "\n",
        "\n",
        "\n",
        "\n"
      ],
      "metadata": {
        "id": "CfOoeU_cTUPd"
      }
    },
    {
      "cell_type": "code",
      "execution_count": 8,
      "metadata": {
        "colab": {
          "base_uri": "https://localhost:8080/"
        },
        "id": "CRFW-AGPTOYd",
        "outputId": "c66cecb8-58b7-4bc8-de19-5c295a87f59a"
      },
      "outputs": [
        {
          "output_type": "stream",
          "name": "stdout",
          "text": [
            "16\n",
            "49\n"
          ]
        }
      ],
      "source": [
        "carre = lambda x: x ** 2\n",
        "\n",
        "# Test\n",
        "print(carre(4))\n",
        "print(carre(7))\n",
        "\n",
        ""
      ]
    }
  ]
}