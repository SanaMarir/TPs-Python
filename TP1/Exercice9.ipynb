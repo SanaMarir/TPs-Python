{
  "nbformat": 4,
  "nbformat_minor": 0,
  "metadata": {
    "colab": {
      "provenance": []
    },
    "kernelspec": {
      "name": "python3",
      "display_name": "Python 3"
    },
    "language_info": {
      "name": "python"
    }
  },
  "cells": [
    {
      "cell_type": "markdown",
      "source": [
        "# Exercice 9\n",
        "\n",
        "\n",
        "\n",
        "\n"
      ],
      "metadata": {
        "id": "CfOoeU_cTUPd"
      }
    },
    {
      "cell_type": "code",
      "execution_count": 13,
      "metadata": {
        "colab": {
          "base_uri": "https://localhost:8080/"
        },
        "id": "CRFW-AGPTOYd",
        "outputId": "80165922-e2c7-4b1b-d429-b890c703ba61"
      },
      "outputs": [
        {
          "output_type": "stream",
          "name": "stdout",
          "text": [
            "{'nombre_de_mots': 4, 'nombre_de_caracteres': 21}\n"
          ]
        }
      ],
      "source": [
        "def analyse_texte(texte):\n",
        "    mots = texte.split()  # Diviser le texte en mots\n",
        "    return {\n",
        "        \"nombre_de_mots\": len(mots),               # Nombre de mots\n",
        "        \"nombre_de_caracteres\": len(texte)         # Nombre total de caractères\n",
        "    }\n",
        "\n",
        "# Test\n",
        "resultat = analyse_texte(\"Bonjour tout le monde\")\n",
        "print(resultat)\n",
        "\n",
        ""
      ]
    }
  ]
}