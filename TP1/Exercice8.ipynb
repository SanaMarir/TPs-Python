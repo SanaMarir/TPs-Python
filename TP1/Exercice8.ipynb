{
  "nbformat": 4,
  "nbformat_minor": 0,
  "metadata": {
    "colab": {
      "provenance": []
    },
    "kernelspec": {
      "name": "python3",
      "display_name": "Python 3"
    },
    "language_info": {
      "name": "python"
    }
  },
  "cells": [
    {
      "cell_type": "markdown",
      "source": [
        "# Exercice 8\n",
        "\n",
        "\n",
        "\n",
        "\n"
      ],
      "metadata": {
        "id": "CfOoeU_cTUPd"
      }
    },
    {
      "cell_type": "code",
      "execution_count": 11,
      "metadata": {
        "colab": {
          "base_uri": "https://localhost:8080/"
        },
        "id": "CRFW-AGPTOYd",
        "outputId": "10e79022-660d-4b89-cd60-f641eb42f684"
      },
      "outputs": [
        {
          "output_type": "stream",
          "name": "stdout",
          "text": [
            "je m'appelle sana\n"
          ]
        }
      ],
      "source": [
        "def somme_varargs(*args):\n",
        "  total = \"\"\n",
        "  for arg in args:\n",
        "    total += arg\n",
        "  return total\n",
        "\n",
        "# Test\n",
        "print (somme_varargs(\"je\", \" m'appelle\", \" sana\"))\n",
        "\n",
        ""
      ]
    },
    {
      "cell_type": "code",
      "source": [
        "def somme_varargs(*args):\n",
        "    return sum(args)\n",
        "\n",
        "# Test\n",
        "print(somme_varargs(5, 5, 5))\n",
        "print(somme_varargs(1, 1, 1, 1))\n",
        "print(somme_varargs(1))\n",
        ""
      ],
      "metadata": {
        "colab": {
          "base_uri": "https://localhost:8080/"
        },
        "id": "F8Vp06psV2gF",
        "outputId": "d01cf063-5135-4fa9-c591-f0f327ba50d9"
      },
      "execution_count": 10,
      "outputs": [
        {
          "output_type": "stream",
          "name": "stdout",
          "text": [
            "15\n",
            "4\n",
            "1\n"
          ]
        }
      ]
    }
  ]
}