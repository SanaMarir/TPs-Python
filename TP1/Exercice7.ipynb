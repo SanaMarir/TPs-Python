{
  "nbformat": 4,
  "nbformat_minor": 0,
  "metadata": {
    "colab": {
      "provenance": []
    },
    "kernelspec": {
      "name": "python3",
      "display_name": "Python 3"
    },
    "language_info": {
      "name": "python"
    }
  },
  "cells": [
    {
      "cell_type": "markdown",
      "source": [
        "# Exercice 7\n",
        "\n",
        "\n",
        "\n",
        "\n"
      ],
      "metadata": {
        "id": "CfOoeU_cTUPd"
      }
    },
    {
      "cell_type": "code",
      "execution_count": 9,
      "metadata": {
        "colab": {
          "base_uri": "https://localhost:8080/"
        },
        "id": "CRFW-AGPTOYd",
        "outputId": "00a10c0d-7867-4ea8-c82f-3e48efc57043"
      },
      "outputs": [
        {
          "output_type": "stream",
          "name": "stdout",
          "text": [
            "Bonjour, sana!\n",
            "Bonsoir, soumaya!\n"
          ]
        }
      ],
      "source": [
        "def salutation(nom, message=\"Bonjour\"):\n",
        "  print(message + \", \" + nom + \"!\")\n",
        "\n",
        "# Test\n",
        "salutation(\"sana\")\n",
        "salutation(\"soumaya\", \"Bonsoir\")\n",
        "\n",
        ""
      ]
    }
  ]
}