{
  "nbformat": 4,
  "nbformat_minor": 0,
  "metadata": {
    "colab": {
      "provenance": []
    },
    "kernelspec": {
      "name": "python3",
      "display_name": "Python 3"
    },
    "language_info": {
      "name": "python"
    }
  },
  "cells": [
    {
      "cell_type": "markdown",
      "source": [
        "# Exercice 4\n",
        "\n",
        "\n"
      ],
      "metadata": {
        "id": "CfOoeU_cTUPd"
      }
    },
    {
      "cell_type": "code",
      "execution_count": 5,
      "metadata": {
        "colab": {
          "base_uri": "https://localhost:8080/"
        },
        "id": "CRFW-AGPTOYd",
        "outputId": "135f0d60-4094-40a3-fe34-cdbf927e7433"
      },
      "outputs": [
        {
          "output_type": "stream",
          "name": "stdout",
          "text": [
            "{'sana': 2, 'soumaya': 3, 'maryem': 1}\n",
            "{'a': 3, 'b': 2, 'c': 1}\n"
          ]
        }
      ],
      "source": [
        "def compte_occurences(liste):\n",
        "    resultat = {}\n",
        "    for mot in liste:\n",
        "        if mot in resultat:\n",
        "            resultat[mot] += 1\n",
        "        else:\n",
        "            resultat[mot] = 1\n",
        "    return resultat\n",
        "\n",
        "# Test\n",
        "print(compte_occurences([\"sana\", \"soumaya\", \"sana\",\"maryem\", \"soumaya\", \"soumaya\"]))\n",
        "print(compte_occurences(['a', 'b', 'a', 'c', 'b', 'a']))\n",
        "\n",
        ""
      ]
    },
    {
      "cell_type": "markdown",
      "source": [
        "ou"
      ],
      "metadata": {
        "id": "qh-4xVEjTfZo"
      }
    },
    {
      "cell_type": "code",
      "source": [
        "def compte_occurences(liste):\n",
        "    return {mot: liste.count(mot) for mot in set(liste)}\n",
        "\n",
        "# Test\n",
        "print(compte_occurences([\"sana\", \"soumaya\", \"sana\",\"maryem\", \"soumaya\", \"soumaya\"]))\n",
        "print(compte_occurences(['a', 'b', 'a', 'c', 'b', 'a']))"
      ],
      "metadata": {
        "colab": {
          "base_uri": "https://localhost:8080/"
        },
        "id": "q6lpV569TgOU",
        "outputId": "b5b4b5a0-e4cb-4485-a14c-8723f6887748"
      },
      "execution_count": 6,
      "outputs": [
        {
          "output_type": "stream",
          "name": "stdout",
          "text": [
            "{'sana': 2, 'soumaya': 3, 'maryem': 1}\n",
            "{'c': 1, 'a': 3, 'b': 2}\n"
          ]
        }
      ]
    }
  ]
}