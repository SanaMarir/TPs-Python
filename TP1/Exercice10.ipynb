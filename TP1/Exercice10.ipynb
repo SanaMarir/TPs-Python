{
  "nbformat": 4,
  "nbformat_minor": 0,
  "metadata": {
    "colab": {
      "provenance": []
    },
    "kernelspec": {
      "name": "python3",
      "display_name": "Python 3"
    },
    "language_info": {
      "name": "python"
    }
  },
  "cells": [
    {
      "cell_type": "markdown",
      "source": [
        "# Exercice 10\n",
        "\n",
        "\n",
        "\n",
        "\n"
      ],
      "metadata": {
        "id": "CfOoeU_cTUPd"
      }
    },
    {
      "cell_type": "code",
      "execution_count": 14,
      "metadata": {
        "colab": {
          "base_uri": "https://localhost:8080/"
        },
        "id": "CRFW-AGPTOYd",
        "outputId": "6b2a5452-29ad-436f-8289-ff24d67ef3d7"
      },
      "outputs": [
        {
          "output_type": "stream",
          "name": "stdout",
          "text": [
            "{'a': 9, 'b': 5, 'c': 4}\n"
          ]
        }
      ],
      "source": [
        "def fusionner_dicts(dict1, dict2):\n",
        "    fusion = dict1.copy()\n",
        "    for key, value in dict2.items():\n",
        "        if key in fusion:\n",
        "            fusion[key] += value\n",
        "        else:\n",
        "            fusion[key] = value\n",
        "    return fusion\n",
        "\n",
        "# Tests\n",
        "dict1 = {\"a\": 1, \"b\": 2}\n",
        "dict2 = {\"b\": 3, \"c\": 4, \"a\": 8 }\n",
        "resultat = fusionner_dicts(dict1, dict2)\n",
        "print(resultat)\n",
        "\n",
        ""
      ]
    }
  ]
}