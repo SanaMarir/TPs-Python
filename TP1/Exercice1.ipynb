{
  "nbformat": 4,
  "nbformat_minor": 0,
  "metadata": {
    "colab": {
      "provenance": []
    },
    "kernelspec": {
      "name": "python3",
      "display_name": "Python 3"
    },
    "language_info": {
      "name": "python"
    }
  },
  "cells": [
    {
      "cell_type": "markdown",
      "source": [
        "# Exercice 1"
      ],
      "metadata": {
        "id": "CfOoeU_cTUPd"
      }
    },
    {
      "cell_type": "code",
      "execution_count": null,
      "metadata": {
        "id": "CRFW-AGPTOYd"
      },
      "outputs": [],
      "source": [
        "def somme_liste(liste):\n",
        "    total = 0\n",
        "    for nombre in liste:\n",
        "        total += nombre\n",
        "    return total\n",
        "\n",
        "# Test\n",
        "print(somme_liste([1, 2, 3, 4]))"
      ]
    },
    {
      "cell_type": "markdown",
      "source": [
        "ou"
      ],
      "metadata": {
        "id": "qh-4xVEjTfZo"
      }
    },
    {
      "cell_type": "code",
      "source": [
        "def somme_liste(liste):\n",
        "    return sum(liste)\n",
        "\n",
        "# Test\n",
        "print(somme_liste([1, 2, 3, 4]))"
      ],
      "metadata": {
        "id": "q6lpV569TgOU"
      },
      "execution_count": null,
      "outputs": []
    }
  ]
}