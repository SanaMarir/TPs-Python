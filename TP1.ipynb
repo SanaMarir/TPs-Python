{
  "nbformat": 4,
  "nbformat_minor": 0,
  "metadata": {
    "colab": {
      "provenance": []
    },
    "kernelspec": {
      "name": "python3",
      "display_name": "Python 3"
    },
    "language_info": {
      "name": "python"
    }
  },
  "cells": [
    {
      "cell_type": "markdown",
      "source": [
        "# Exercice 1"
      ],
      "metadata": {
        "id": "SnkScs8nzL0u"
      }
    },
    {
      "cell_type": "code",
      "source": [
        "def somme_liste(liste):\n",
        "    total = 0\n",
        "    for nombre in liste:\n",
        "        total += nombre\n",
        "    return total\n",
        "\n",
        "# Test\n",
        "print(somme_liste([1, 2, 3, 4]))"
      ],
      "metadata": {
        "colab": {
          "base_uri": "https://localhost:8080/"
        },
        "id": "jtuQUqTFGy7o",
        "outputId": "ecb0fe3b-c72b-4248-bd29-cfc054b7e4a7"
      },
      "execution_count": 5,
      "outputs": [
        {
          "output_type": "stream",
          "name": "stdout",
          "text": [
            "10\n"
          ]
        }
      ]
    },
    {
      "cell_type": "code",
      "source": [
        "def somme_liste(liste):\n",
        "    return sum(liste)\n",
        "\n",
        "# Test\n",
        "print(somme_liste([1, 2, 3, 4]))"
      ],
      "metadata": {
        "colab": {
          "base_uri": "https://localhost:8080/"
        },
        "id": "SsFztJXR5_LA",
        "outputId": "fa5c2611-b02e-4410-d60b-9cc4d8c8fab8"
      },
      "execution_count": 20,
      "outputs": [
        {
          "output_type": "stream",
          "name": "stdout",
          "text": [
            "10\n"
          ]
        }
      ]
    },
    {
      "cell_type": "markdown",
      "source": [
        "# Exercice 2"
      ],
      "metadata": {
        "id": "xP8j6okXzSA6"
      }
    },
    {
      "cell_type": "code",
      "source": [
        "def max_tuple(t):\n",
        "    maximum = t[0]\n",
        "    for nombre in t:\n",
        "        if nombre > maximum:\n",
        "            maximum = nombre\n",
        "    return maximum\n",
        "\n",
        "# Test\n",
        "print(max_tuple((1, 5, 3)))"
      ],
      "metadata": {
        "colab": {
          "base_uri": "https://localhost:8080/"
        },
        "id": "QjffEI6FHNZx",
        "outputId": "d16e4465-79b9-4920-ff0f-15d043b55a7d"
      },
      "execution_count": 6,
      "outputs": [
        {
          "output_type": "stream",
          "name": "stdout",
          "text": [
            "5\n"
          ]
        }
      ]
    },
    {
      "cell_type": "code",
      "source": [
        "def max_tuple(t):\n",
        "    return max(t)\n",
        "\n",
        "# Test\n",
        "print(max_tuple((1, 5, 3)))"
      ],
      "metadata": {
        "colab": {
          "base_uri": "https://localhost:8080/"
        },
        "id": "uAqLDb6O6PHn",
        "outputId": "57f4f68a-2d4e-47d5-f6f0-ff7eaa760755"
      },
      "execution_count": 21,
      "outputs": [
        {
          "output_type": "stream",
          "name": "stdout",
          "text": [
            "5\n"
          ]
        }
      ]
    },
    {
      "cell_type": "markdown",
      "source": [
        "# Exercice 3"
      ],
      "metadata": {
        "id": "3SP6FgYMz3hd"
      }
    },
    {
      "cell_type": "code",
      "source": [
        "def intersection(ensemble1, ensemble2):\n",
        "    resultat = set()\n",
        "    for element in ensemble1:\n",
        "        if element in ensemble2:\n",
        "            resultat.add(element)\n",
        "    return resultat\n",
        "\n",
        "# Test\n",
        "print(intersection({1, 2, 3}, {2, 3, 4}))\n",
        "print(intersection({1, 2, 3}, {4, 5}))"
      ],
      "metadata": {
        "colab": {
          "base_uri": "https://localhost:8080/"
        },
        "id": "kmp9xanpHY-I",
        "outputId": "c4112187-92a2-4fae-f6c2-dc1a239ac101"
      },
      "execution_count": 7,
      "outputs": [
        {
          "output_type": "stream",
          "name": "stdout",
          "text": [
            "{2, 3}\n",
            "set()\n"
          ]
        }
      ]
    },
    {
      "cell_type": "code",
      "source": [
        "def intersection(ensemble1, ensemble2):\n",
        "    return ensemble1.intersection(ensemble2)\n",
        "\n",
        "# Test\n",
        "print(intersection({1, 2, 3}, {2, 3, 4}))\n",
        "print(intersection({1, 2, 3}, {4, 5}))"
      ],
      "metadata": {
        "colab": {
          "base_uri": "https://localhost:8080/"
        },
        "id": "-HBWNOrZ6fLS",
        "outputId": "1873437e-942b-47a4-ba38-80dddf0d8db7"
      },
      "execution_count": 22,
      "outputs": [
        {
          "output_type": "stream",
          "name": "stdout",
          "text": [
            "{2, 3}\n",
            "set()\n"
          ]
        }
      ]
    },
    {
      "cell_type": "markdown",
      "source": [
        "# Exercice 4"
      ],
      "metadata": {
        "id": "gcp6lICu0W8C"
      }
    },
    {
      "cell_type": "code",
      "source": [
        "def compte_occurences(liste):\n",
        "    resultat = {}\n",
        "    for mot in liste:\n",
        "        if mot in resultat:\n",
        "            resultat[mot] += 1\n",
        "        else:\n",
        "            resultat[mot] = 1\n",
        "    return resultat\n",
        "\n",
        "# Test\n",
        "print(compte_occurences([\"sana\", \"soumaya\", \"sana\",\"maryem\", \"soumaya\", \"soumaya\"]))\n",
        "print(compte_occurences(['a', 'b', 'a', 'c', 'b', 'a']))\n"
      ],
      "metadata": {
        "colab": {
          "base_uri": "https://localhost:8080/"
        },
        "id": "MbCDE_vZ0Z9K",
        "outputId": "98a56b44-75e3-44d3-d422-6147e41bf5ad"
      },
      "execution_count": 10,
      "outputs": [
        {
          "output_type": "stream",
          "name": "stdout",
          "text": [
            "{'sana': 2, 'soumaya': 3, 'maryem': 1}\n",
            "{'a': 3, 'b': 2, 'c': 1}\n"
          ]
        }
      ]
    },
    {
      "cell_type": "code",
      "source": [
        "def compte_occurences(liste):\n",
        "    return {mot: liste.count(mot) for mot in set(liste)}\n",
        "\n",
        "# Test\n",
        "print(compte_occurences([\"sana\", \"soumaya\", \"sana\",\"maryem\", \"soumaya\", \"soumaya\"]))\n",
        "print(compte_occurences(['a', 'b', 'a', 'c', 'b', 'a']))\n",
        "\n"
      ],
      "metadata": {
        "colab": {
          "base_uri": "https://localhost:8080/"
        },
        "id": "tZJ8-t5u6kRY",
        "outputId": "dea44b85-31a3-4dca-fe7c-837dbd6c0d7e"
      },
      "execution_count": 24,
      "outputs": [
        {
          "output_type": "stream",
          "name": "stdout",
          "text": [
            "{'sana': 2, 'maryem': 1, 'soumaya': 3}\n",
            "{'a': 3, 'c': 1, 'b': 2}\n"
          ]
        }
      ]
    },
    {
      "cell_type": "markdown",
      "source": [
        "# Exerccice 5"
      ],
      "metadata": {
        "id": "4efyjf8O2wYv"
      }
    },
    {
      "cell_type": "code",
      "source": [
        "def factorielle(n):\n",
        "    if n == 0:\n",
        "        return 1\n",
        "    return n * factorielle(n - 1)\n",
        "\n",
        "# Test\n",
        "print(factorielle(5))\n",
        "print(factorielle(0))"
      ],
      "metadata": {
        "colab": {
          "base_uri": "https://localhost:8080/"
        },
        "id": "hSbjVLmO22af",
        "outputId": "a47c8ffd-a1ad-48a5-c0d2-ee10b20fc3fb"
      },
      "execution_count": 11,
      "outputs": [
        {
          "output_type": "stream",
          "name": "stdout",
          "text": [
            "120\n",
            "1\n"
          ]
        }
      ]
    },
    {
      "cell_type": "markdown",
      "source": [
        "# Exercice 6"
      ],
      "metadata": {
        "id": "sfJbASyl3CZm"
      }
    },
    {
      "cell_type": "code",
      "source": [
        "carre = lambda x: x ** 2\n",
        "\n",
        "# Test\n",
        "print(carre(4))\n",
        "print(carre(7))"
      ],
      "metadata": {
        "colab": {
          "base_uri": "https://localhost:8080/"
        },
        "id": "DjrSOEmS3E_Q",
        "outputId": "eff22660-bd8e-4def-cecd-f42ca97da909"
      },
      "execution_count": 12,
      "outputs": [
        {
          "output_type": "stream",
          "name": "stdout",
          "text": [
            "16\n",
            "49\n"
          ]
        }
      ]
    },
    {
      "cell_type": "markdown",
      "source": [
        "# Exercice 7"
      ],
      "metadata": {
        "id": "8ZisXaqD3MNh"
      }
    },
    {
      "cell_type": "code",
      "source": [
        "def salutation(nom, message=\"Bonjour\"):\n",
        "  print(message + \", \" + nom + \"!\")\n",
        "\n",
        "# Test\n",
        "salutation(\"sana\")\n",
        "salutation(\"soumaya\", \"Bonsoir\")"
      ],
      "metadata": {
        "colab": {
          "base_uri": "https://localhost:8080/"
        },
        "id": "vW-ky10Z3R3L",
        "outputId": "547f5551-5cf4-4976-a870-f9f933d509bb"
      },
      "execution_count": 13,
      "outputs": [
        {
          "output_type": "stream",
          "name": "stdout",
          "text": [
            "Bonjour, sana!\n",
            "Bonsoir, soumaya!\n"
          ]
        }
      ]
    },
    {
      "cell_type": "markdown",
      "source": [
        "# Exercice 8"
      ],
      "metadata": {
        "id": "5KGbBQAr322N"
      }
    },
    {
      "cell_type": "code",
      "source": [
        "def somme_varargs(*args):\n",
        "  total = \"\"\n",
        "  for arg in args:\n",
        "    total += arg\n",
        "  return total\n",
        "\n",
        "# Test\n",
        "print (somme_varargs(\"je\", \" m'appelle\", \" sana\"))"
      ],
      "metadata": {
        "colab": {
          "base_uri": "https://localhost:8080/"
        },
        "id": "vscItnXW35Pu",
        "outputId": "b90bc1e5-da78-4215-9632-949dfb517e4c"
      },
      "execution_count": 42,
      "outputs": [
        {
          "output_type": "stream",
          "name": "stdout",
          "text": [
            "je m'appelle sana\n"
          ]
        }
      ]
    },
    {
      "cell_type": "code",
      "source": [
        "def somme_varargs(*args):\n",
        "    return sum(args)\n",
        "\n",
        "# Test\n",
        "print(somme_varargs(5, 5, 5))\n",
        "print(somme_varargs(1, 1, 1, 1))\n",
        "print(somme_varargs(1))"
      ],
      "metadata": {
        "colab": {
          "base_uri": "https://localhost:8080/"
        },
        "id": "mjol-Ye57Jw1",
        "outputId": "e54358e0-5f56-4e5a-81bb-49b3b0149de5"
      },
      "execution_count": 43,
      "outputs": [
        {
          "output_type": "stream",
          "name": "stdout",
          "text": [
            "15\n",
            "4\n",
            "1\n"
          ]
        }
      ]
    },
    {
      "cell_type": "markdown",
      "source": [
        "# Exercice 9"
      ],
      "metadata": {
        "id": "2cbWwqB-4kx7"
      }
    },
    {
      "cell_type": "code",
      "source": [
        "def analyse_texte(texte):\n",
        "    mots = texte.split()  # Diviser le texte en mots\n",
        "    return {\n",
        "        \"nombre_de_mots\": len(mots),               # Nombre de mots\n",
        "        \"nombre_de_caracteres\": len(texte)         # Nombre total de caractères\n",
        "    }\n",
        "\n",
        "# Test\n",
        "resultat = analyse_texte(\"Bonjour tout le monde\")\n",
        "print(resultat)"
      ],
      "metadata": {
        "colab": {
          "base_uri": "https://localhost:8080/"
        },
        "id": "Av5BldujIZ8f",
        "outputId": "645edda3-593c-4e19-cabc-a522db8f7030"
      },
      "execution_count": 19,
      "outputs": [
        {
          "output_type": "stream",
          "name": "stdout",
          "text": [
            "{'nombre_de_mots': 4, 'nombre_de_caracteres': 21}\n"
          ]
        }
      ]
    },
    {
      "cell_type": "markdown",
      "source": [
        "# Exercice 10"
      ],
      "metadata": {
        "id": "xP-Fpdc67epl"
      }
    },
    {
      "cell_type": "code",
      "source": [
        "def fusionner_dicts(dict1, dict2):\n",
        "    fusion = dict1.copy()\n",
        "    for key, value in dict2.items():\n",
        "        if key in fusion:\n",
        "            fusion[key] += value\n",
        "        else:\n",
        "            fusion[key] = value\n",
        "    return fusion\n",
        "\n",
        "# Tests\n",
        "dict1 = {\"a\": 1, \"b\": 2}\n",
        "dict2 = {\"b\": 3, \"c\": 4, \"a\": 8 }\n",
        "resultat = fusionner_dicts(dict1, dict2)\n",
        "print(resultat)"
      ],
      "metadata": {
        "colab": {
          "base_uri": "https://localhost:8080/"
        },
        "id": "-Y5C1frx7hOJ",
        "outputId": "75d6c210-9be9-4f2d-8673-541f91907a9d"
      },
      "execution_count": 47,
      "outputs": [
        {
          "output_type": "stream",
          "name": "stdout",
          "text": [
            "{'a': 9, 'b': 5, 'c': 4}\n"
          ]
        }
      ]
    }
  ]
}