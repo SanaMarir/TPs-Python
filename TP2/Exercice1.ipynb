{
  "nbformat": 4,
  "nbformat_minor": 0,
  "metadata": {
    "colab": {
      "provenance": []
    },
    "kernelspec": {
      "name": "python3",
      "display_name": "Python 3"
    },
    "language_info": {
      "name": "python"
    }
  },
  "cells": [
    {
      "cell_type": "markdown",
      "source": [
        "# Exercice 1 : Classe \"Chien\"\n",
        "\n",
        "\n",
        "\n",
        "\n"
      ],
      "metadata": {
        "id": "CfOoeU_cTUPd"
      }
    },
    {
      "cell_type": "code",
      "execution_count": 15,
      "metadata": {
        "colab": {
          "base_uri": "https://localhost:8080/"
        },
        "id": "CRFW-AGPTOYd",
        "outputId": "c718610b-0865-4d15-8aa5-393c3373e9cd"
      },
      "outputs": [
        {
          "output_type": "stream",
          "name": "stdout",
          "text": [
            "Woof!\n"
          ]
        }
      ],
      "source": [
        "class Chien:\n",
        "    def __init__(self, nom, race, age):\n",
        "        self.nom = nom\n",
        "        self.race = race\n",
        "        self.age = age\n",
        "\n",
        "    def aboyer(self):\n",
        "        print(\"Woof!\")\n",
        "\n",
        "# Création d'une instance de la classe Chien\n",
        "mon_chien = Chien(\"bobiz\", \"chihuahua\", 5)\n",
        "\n",
        "# Appel de la méthode aboyer\n",
        "mon_chien.aboyer()\n",
        "\n",
        ""
      ]
    }
  ]
}