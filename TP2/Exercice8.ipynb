{
  "nbformat": 4,
  "nbformat_minor": 0,
  "metadata": {
    "colab": {
      "provenance": []
    },
    "kernelspec": {
      "name": "python3",
      "display_name": "Python 3"
    },
    "language_info": {
      "name": "python"
    }
  },
  "cells": [
    {
      "cell_type": "markdown",
      "source": [
        "# Exercice 8 : Classe \"Personne\"\n",
        "\n",
        "\n",
        "\n",
        "\n"
      ],
      "metadata": {
        "id": "CfOoeU_cTUPd"
      }
    },
    {
      "cell_type": "code",
      "execution_count": 24,
      "metadata": {
        "colab": {
          "base_uri": "https://localhost:8080/"
        },
        "id": "CRFW-AGPTOYd",
        "outputId": "c45c7e92-94f6-4435-b360-53f06a9ab3b9"
      },
      "outputs": [
        {
          "output_type": "stream",
          "name": "stdout",
          "text": [
            "Paul a été ajouté à la liste des amis de Alice.\n",
            "Julie a été ajouté à la liste des amis de Alice.\n",
            "Paul est déjà dans la liste des amis de Alice.\n",
            "Les amis de Alice Dupont sont :\n",
            "- Paul\n",
            "- Julie\n",
            "Paul Martin n'a pas encore d'amis.\n"
          ]
        }
      ],
      "source": [
        "class Personne:\n",
        "    def __init__(self, nom, prenom, age):\n",
        "        self.nom = nom\n",
        "        self.prenom = prenom\n",
        "        self.age = age\n",
        "        self.amis = []\n",
        "\n",
        "    def ajouter_ami(self, ami):\n",
        "        \"\"\"Ajoute un ami à la liste.\"\"\"\n",
        "        if ami not in self.amis:  # Vérifie que l'ami n'est pas déjà dans la liste\n",
        "            self.amis.append(ami)  # Ajoute l'ami\n",
        "            print(f\"{ami} a été ajouté à la liste des amis de {self.prenom}.\")\n",
        "        else:\n",
        "            print(f\"{ami} est déjà dans la liste des amis de {self.prenom}.\")\n",
        "\n",
        "    def afficher_amis(self):\n",
        "        \"\"\"Affiche la liste des amis.\"\"\"\n",
        "        if self.amis:  # Vérifie si la liste d'amis n'est pas vide\n",
        "            print(f\"Les amis de {self.prenom} {self.nom} sont :\")\n",
        "            for ami in self.amis:  # Parcourt chaque ami dans la liste\n",
        "                print(f\"- {ami}\")\n",
        "        else:\n",
        "            print(f\"{self.prenom} {self.nom} n'a pas encore d'amis.\")\n",
        "\n",
        "# Création d'instances\n",
        "personne1 = Personne(\"Dupont\", \"Alice\", 25)\n",
        "personne2 = Personne(\"Martin\", \"Paul\", 30)\n",
        "\n",
        "# Ajouter des amis\n",
        "personne1.ajouter_ami(\"Paul\")\n",
        "personne1.ajouter_ami(\"Julie\")\n",
        "personne1.ajouter_ami(\"Paul\")  # Test de doublon\n",
        "\n",
        "# Afficher les amis\n",
        "personne1.afficher_amis()\n",
        "\n",
        "# Test avec une autre personne (sans amis)\n",
        "personne2.afficher_amis()"
      ]
    }
  ]
}