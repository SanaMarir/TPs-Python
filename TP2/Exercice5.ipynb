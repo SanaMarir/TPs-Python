{
  "nbformat": 4,
  "nbformat_minor": 0,
  "metadata": {
    "colab": {
      "provenance": []
    },
    "kernelspec": {
      "name": "python3",
      "display_name": "Python 3"
    },
    "language_info": {
      "name": "python"
    }
  },
  "cells": [
    {
      "cell_type": "markdown",
      "source": [
        "# Exercice 5 : Classe \"Animal\"\n",
        "\n",
        "\n",
        "\n",
        "\n"
      ],
      "metadata": {
        "id": "CfOoeU_cTUPd"
      }
    },
    {
      "cell_type": "code",
      "execution_count": 20,
      "metadata": {
        "colab": {
          "base_uri": "https://localhost:8080/"
        },
        "id": "CRFW-AGPTOYd",
        "outputId": "a6279fb7-89d6-472b-de0c-ab2a18ca2bf1"
      },
      "outputs": [
        {
          "output_type": "stream",
          "name": "stdout",
          "text": [
            "fait un bruit .\n",
            "Woof!\n",
            "Miaou!\n"
          ]
        }
      ],
      "source": [
        "class Animal:\n",
        "    def faire_du_bruit(self):\n",
        "        print(\"fait un bruit .\")\n",
        "\n",
        "class Chien(Animal):\n",
        "    def faire_du_bruit(self):\n",
        "        print(\"Woof!\")\n",
        "\n",
        "class Chat(Animal):\n",
        "    def faire_du_bruit(self):\n",
        "        print(\"Miaou!\")\n",
        "\n",
        "# Création d'instances\n",
        "animal = Animal()\n",
        "chien = Chien()\n",
        "chat = Chat()\n",
        "\n",
        "# Tests\n",
        "animal.faire_du_bruit()\n",
        "chien.faire_du_bruit()\n",
        "chat.faire_du_bruit()"
      ]
    }
  ]
}