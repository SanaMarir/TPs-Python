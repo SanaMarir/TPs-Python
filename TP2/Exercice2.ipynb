{
  "nbformat": 4,
  "nbformat_minor": 0,
  "metadata": {
    "colab": {
      "provenance": []
    },
    "kernelspec": {
      "name": "python3",
      "display_name": "Python 3"
    },
    "language_info": {
      "name": "python"
    }
  },
  "cells": [
    {
      "cell_type": "markdown",
      "source": [
        "# Exercice 2 : Classe \"Voiture\"\n",
        "\n",
        "\n",
        "\n",
        "\n"
      ],
      "metadata": {
        "id": "CfOoeU_cTUPd"
      }
    },
    {
      "cell_type": "code",
      "execution_count": 16,
      "metadata": {
        "colab": {
          "base_uri": "https://localhost:8080/"
        },
        "id": "CRFW-AGPTOYd",
        "outputId": "4ad032d7-b12f-4255-8e60-3757bf57cda3"
      },
      "outputs": [
        {
          "output_type": "stream",
          "name": "stdout",
          "text": [
            "Voiture: Mercedes-Benz Classe A, Année: 2022\n",
            "Voiture: Audi Q7, Année: 2020\n",
            "Voiture: BMW X5, Année: 2019\n"
          ]
        }
      ],
      "source": [
        "class Voiture:\n",
        "    def __init__(self, marque, modele, annee):\n",
        "        self.marque = marque\n",
        "        self.modele = modele\n",
        "        self.annee = annee\n",
        "\n",
        "    def afficher_info(self):\n",
        "        print(f\"Voiture: {self.marque} {self.modele}, Année: {self.annee}\")\n",
        "\n",
        "\n",
        "# Création des instances\n",
        "voiture1 = Voiture(\"Mercedes-Benz\", \"Classe A\", 2022)\n",
        "voiture2 = Voiture(\"Audi\", \"Q7\", 2020)\n",
        "voiture3 = Voiture(\"BMW\", \"X5\", 2019)\n",
        "\n",
        "# Affichage des informations\n",
        "voiture1.afficher_info()\n",
        "voiture2.afficher_info()\n",
        "voiture3.afficher_info()\n",
        "\n",
        ""
      ]
    }
  ]
}