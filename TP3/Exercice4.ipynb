{
  "nbformat": 4,
  "nbformat_minor": 0,
  "metadata": {
    "colab": {
      "provenance": []
    },
    "kernelspec": {
      "name": "python3",
      "display_name": "Python 3"
    },
    "language_info": {
      "name": "python"
    }
  },
  "cells": [
    {
      "cell_type": "markdown",
      "source": [
        "# Exercice 4 :\n",
        "\n",
        "\n",
        "\n",
        "\n"
      ],
      "metadata": {
        "id": "CfOoeU_cTUPd"
      }
    },
    {
      "cell_type": "code",
      "execution_count": 26,
      "metadata": {
        "colab": {
          "base_uri": "https://localhost:8080/"
        },
        "id": "CRFW-AGPTOYd",
        "outputId": "46df8b48-7088-480d-b455-02baba7abe57"
      },
      "outputs": [
        {
          "output_type": "stream",
          "name": "stdout",
          "text": [
            "Prix après remise: 180.0 MAD\n"
          ]
        }
      ],
      "source": [
        "from abc import ABC, abstractmethod\n",
        "import math\n",
        "\n",
        "class Produit:\n",
        "    def __init__(self, nom, prix):\n",
        "        self.__nom = nom\n",
        "        self.__prix = prix\n",
        "\n",
        "    def appliquer_remise(self, remise):\n",
        "        if self.__prix > 100:\n",
        "            self.__prix -= self.__prix * (remise / 100)\n",
        "\n",
        "    def get_prix(self):\n",
        "        return self.__prix\n",
        "\n",
        "# Test\n",
        "produit = Produit(\"Parfume\", 200)\n",
        "produit.appliquer_remise(10)\n",
        "print(f\"Prix après remise: {produit.get_prix()} MAD\")"
      ]
    }
  ]
}