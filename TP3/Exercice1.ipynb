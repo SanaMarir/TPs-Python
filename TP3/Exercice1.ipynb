{
  "nbformat": 4,
  "nbformat_minor": 0,
  "metadata": {
    "colab": {
      "provenance": []
    },
    "kernelspec": {
      "name": "python3",
      "display_name": "Python 3"
    },
    "language_info": {
      "name": "python"
    }
  },
  "cells": [
    {
      "cell_type": "markdown",
      "source": [
        "# Exercice 1 :\n",
        "\n",
        "\n",
        "\n",
        "\n"
      ],
      "metadata": {
        "id": "CfOoeU_cTUPd"
      }
    },
    {
      "cell_type": "code",
      "execution_count": 25,
      "metadata": {
        "colab": {
          "base_uri": "https://localhost:8080/"
        },
        "id": "CRFW-AGPTOYd",
        "outputId": "03d2135a-8fc2-4999-ac58-96b582280f61"
      },
      "outputs": [
        {
          "output_type": "stream",
          "name": "stdout",
          "text": [
            "Surface: 28.274333882308138\n",
            "Surface: 32\n"
          ]
        }
      ],
      "source": [
        "from abc import ABC, abstractmethod\n",
        "import math\n",
        "\n",
        "class Forme(ABC):\n",
        "    @abstractmethod\n",
        "    def calculer_surface(self):\n",
        "        pass\n",
        "\n",
        "class Cercle(Forme):\n",
        "    def __init__(self, rayon):\n",
        "        self.rayon = rayon\n",
        "\n",
        "    def calculer_surface(self):\n",
        "        return math.pi * self.rayon ** 2\n",
        "\n",
        "class Rectangle(Forme):\n",
        "    def __init__(self, largeur, hauteur):\n",
        "        self.largeur = largeur\n",
        "        self.hauteur = hauteur\n",
        "\n",
        "    def calculer_surface(self):\n",
        "        return self.largeur * self.hauteur\n",
        "\n",
        "# Test\n",
        "formes = [Cercle(3), Rectangle(4, 8)]\n",
        "for forme in formes:\n",
        "    print(f\"Surface: {forme.calculer_surface()}\")"
      ]
    }
  ]
}