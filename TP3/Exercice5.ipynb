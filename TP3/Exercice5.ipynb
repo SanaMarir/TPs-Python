{
  "nbformat": 4,
  "nbformat_minor": 0,
  "metadata": {
    "colab": {
      "provenance": []
    },
    "kernelspec": {
      "name": "python3",
      "display_name": "Python 3"
    },
    "language_info": {
      "name": "python"
    }
  },
  "cells": [
    {
      "cell_type": "markdown",
      "source": [
        "# Exercice 5 :\n",
        "\n",
        "\n",
        "\n",
        "\n"
      ],
      "metadata": {
        "id": "CfOoeU_cTUPd"
      }
    },
    {
      "cell_type": "code",
      "execution_count": 29,
      "metadata": {
        "colab": {
          "base_uri": "https://localhost:8080/"
        },
        "id": "CRFW-AGPTOYd",
        "outputId": "cd03c47d-6238-4403-8c9c-2762dd4fda81"
      },
      "outputs": [
        {
          "output_type": "stream",
          "name": "stdout",
          "text": [
            "Employés supervisés par Sana:\n",
            "- Soumaya Tobjya\n",
            "- Meryem Abida\n"
          ]
        }
      ],
      "source": [
        "class Employe:\n",
        "    def __init__(self, nom, prenom, salaire):\n",
        "        self.nom = nom\n",
        "        self.prenom = prenom\n",
        "        self.salaire = salaire\n",
        "\n",
        "class Manager(Employe):\n",
        "    def __init__(self, nom, prenom, salaire):\n",
        "        super().__init__(nom, prenom, salaire)\n",
        "        self.employes_supervises = []\n",
        "\n",
        "    def ajouter_employe(self, employe):\n",
        "        self.employes_supervises.append(employe)\n",
        "\n",
        "    def afficher_employes(self):\n",
        "        print(f\"Employés supervisés par {self.prenom}:\")\n",
        "        for employe in self.employes_supervises:\n",
        "            print(f\"- {employe.prenom} {employe.nom}\")\n",
        "\n",
        "# Test\n",
        "manager = Manager(\"Marir\", \"Sana\", 30000)\n",
        "employe1 = Employe(\"Tobjya\", \"Soumaya\", 10000)\n",
        "employe2 = Employe(\"Abida\", \"Meryem\", 5000)\n",
        "manager.ajouter_employe(employe1)\n",
        "manager.ajouter_employe(employe2)\n",
        "manager.afficher_employes()"
      ]
    }
  ]
}