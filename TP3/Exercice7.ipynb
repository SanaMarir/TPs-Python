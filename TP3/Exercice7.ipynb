{
  "nbformat": 4,
  "nbformat_minor": 0,
  "metadata": {
    "colab": {
      "provenance": []
    },
    "kernelspec": {
      "name": "python3",
      "display_name": "Python 3"
    },
    "language_info": {
      "name": "python"
    }
  },
  "cells": [
    {
      "cell_type": "markdown",
      "source": [
        "# Exercice 7 :\n",
        "\n",
        "\n",
        "\n",
        "\n"
      ],
      "metadata": {
        "id": "CfOoeU_cTUPd"
      }
    },
    {
      "cell_type": "code",
      "execution_count": 32,
      "metadata": {
        "id": "CRFW-AGPTOYd"
      },
      "outputs": [],
      "source": [
        "class Vehicule(ABC):\n",
        "    @abstractmethod\n",
        "    def deplacer(self):\n",
        "        pass\n",
        "\n",
        "class Voiture(Vehicule):\n",
        "    def deplacer(self):\n",
        "        return \"La voiture roule sur la route.\"\n",
        "\n",
        "class Bicyclette(Vehicule):\n",
        "    def deplacer(self):\n",
        "        return \"La bicyclette est pédalée sur la piste cyclable.\"\n",
        "# Test\n",
        "vehicules = [Voiture(), Bicyclette()]\n",
        "for vehicule in vehicules:\n",
        "    vehicule.deplacer()"
      ]
    }
  ]
}