{
  "nbformat": 4,
  "nbformat_minor": 0,
  "metadata": {
    "colab": {
      "provenance": []
    },
    "kernelspec": {
      "name": "python3",
      "display_name": "Python 3"
    },
    "language_info": {
      "name": "python"
    }
  },
  "cells": [
    {
      "cell_type": "markdown",
      "source": [
        "# Exercice 2 :\n",
        "\n",
        "\n",
        "\n",
        "\n"
      ],
      "metadata": {
        "id": "CfOoeU_cTUPd"
      }
    },
    {
      "cell_type": "code",
      "execution_count": 27,
      "metadata": {
        "colab": {
          "base_uri": "https://localhost:8080/"
        },
        "id": "CRFW-AGPTOYd",
        "outputId": "8c2af6b8-acb4-48bc-8caa-b967e51676e3"
      },
      "outputs": [
        {
          "output_type": "stream",
          "name": "stdout",
          "text": [
            "Sana   Marir   21\n"
          ]
        }
      ],
      "source": [
        "from abc import ABC, abstractmethod\n",
        "\n",
        "class Personne(ABC):\n",
        "\tdef __init__(self, nom, prenom, age):\n",
        "\t\tself.__nom = nom\n",
        "\t\tself.__prenom = prenom\n",
        "\t\tself.__age = age\n",
        "\n",
        "\n",
        "\tdef getName(self):\n",
        "\t\treturn self.__nom\n",
        "\n",
        "\tdef getPrenom(self):\n",
        "\t\treturn self.__prenom\n",
        "\n",
        "\tdef getAge(self):\n",
        "\t\treturn self.__age\n",
        "\n",
        "\n",
        "\tdef setAge(slef, age):\n",
        "\t\tif age > 0:\n",
        "\t\t\tself.__age = age\n",
        "\t\telse:\n",
        "\t\t\tprint(\"L'age doit etre possitive\")\n",
        "\n",
        "P1 = Personne(\"Sana\", \"Marir\", 21)\n",
        "nom = P1.getName()\n",
        "prenom = P1.getPrenom()\n",
        "age = P1.getAge()\n",
        "print(nom, \" \", prenom, \" \", age)\n",
        "\n",
        "\n"
      ]
    }
  ]
}