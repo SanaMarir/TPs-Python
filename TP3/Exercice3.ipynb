{
  "nbformat": 4,
  "nbformat_minor": 0,
  "metadata": {
    "colab": {
      "provenance": []
    },
    "kernelspec": {
      "name": "python3",
      "display_name": "Python 3"
    },
    "language_info": {
      "name": "python"
    }
  },
  "cells": [
    {
      "cell_type": "markdown",
      "source": [
        "# Exercice 3 :\n",
        "\n",
        "\n",
        "\n",
        "\n"
      ],
      "metadata": {
        "id": "CfOoeU_cTUPd"
      }
    },
    {
      "cell_type": "code",
      "execution_count": 28,
      "metadata": {
        "colab": {
          "base_uri": "https://localhost:8080/"
        },
        "id": "CRFW-AGPTOYd",
        "outputId": "617a37bc-b6ce-4ff6-e83b-6e354a896bf5"
      },
      "outputs": [
        {
          "output_type": "stream",
          "name": "stdout",
          "text": [
            "Surface : 28.274333882308138\n",
            "Surface : 20\n"
          ]
        }
      ],
      "source": [
        "def afficher_surface(formes):\n",
        "    for forme in formes:\n",
        "        print(f\"Surface : {forme.calculer_surface()}\")\n",
        "\n",
        "# Test\n",
        "formes = [Cercle(3), Rectangle(4, 5)]\n",
        "afficher_surface(formes)\n"
      ]
    }
  ]
}