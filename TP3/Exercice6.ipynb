{
  "nbformat": 4,
  "nbformat_minor": 0,
  "metadata": {
    "colab": {
      "provenance": []
    },
    "kernelspec": {
      "name": "python3",
      "display_name": "Python 3"
    },
    "language_info": {
      "name": "python"
    }
  },
  "cells": [
    {
      "cell_type": "markdown",
      "source": [
        "# Exercice 6 :\n",
        "\n",
        "\n",
        "\n",
        "\n"
      ],
      "metadata": {
        "id": "CfOoeU_cTUPd"
      }
    },
    {
      "cell_type": "code",
      "execution_count": 30,
      "metadata": {
        "colab": {
          "base_uri": "https://localhost:8080/"
        },
        "id": "CRFW-AGPTOYd",
        "outputId": "bb1b265e-e30b-4409-e734-5c141c929300"
      },
      "outputs": [
        {
          "output_type": "stream",
          "name": "stdout",
          "text": [
            "Total du panier: 800 MAD\n"
          ]
        }
      ],
      "source": [
        "class Produit:\n",
        "    def __init__(self, nom, prix):\n",
        "        self.nom = nom\n",
        "        self.prix = prix\n",
        "\n",
        "class Commande:\n",
        "    def __init__(self, produit, quantite):\n",
        "        self.produit = produit\n",
        "        self.quantite = quantite\n",
        "\n",
        "class Panier:\n",
        "    def __init__(self):\n",
        "        self.commandes = []\n",
        "\n",
        "    def ajouter_commande(self, commande):\n",
        "        self.commandes.append(commande)\n",
        "\n",
        "    def calculer_total(self):\n",
        "        total = sum(commande.produit.prix * commande.quantite for commande in self.commandes)\n",
        "        return total\n",
        "\n",
        "\n",
        "# Test\n",
        "produit1 = Produit(\"Sac\", 400)\n",
        "produit2 = Produit(\"Parfume\", 200)\n",
        "commande1 = Commande(produit1, 1)\n",
        "commande2 = Commande(produit2, 2)\n",
        "\n",
        "panier = Panier()\n",
        "panier.ajouter_commande(commande1)\n",
        "panier.ajouter_commande(commande2)\n",
        "print(f\"Total du panier: {panier.calculer_total()} MAD\")"
      ]
    }
  ]
}