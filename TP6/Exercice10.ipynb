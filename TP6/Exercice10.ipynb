{
  "nbformat": 4,
  "nbformat_minor": 0,
  "metadata": {
    "colab": {
      "provenance": []
    },
    "kernelspec": {
      "name": "python3",
      "display_name": "Python 3"
    },
    "language_info": {
      "name": "python"
    }
  },
  "cells": [
    {
      "cell_type": "markdown",
      "source": [
        "# Exercice 10 : Combinez Tout"
      ],
      "metadata": {
        "id": "aIaN8Nd0Rk-p"
      }
    },
    {
      "cell_type": "code",
      "execution_count": null,
      "metadata": {
        "id": "sCjH2xLKRh-U"
      },
      "outputs": [],
      "source": [
        "def main():\n",
        "    try:\n",
        "        filename = input(\"Entrez le nom du fichier : \")\n",
        "        read_file_with_logging(filename)\n",
        "\n",
        "        number = get_positive_integer()\n",
        "        result = safe_division_with_else(number, 10)\n",
        "        print(f\"Résultat de la division : {result}\")\n",
        "    except Exception as e:\n",
        "        print(f\"Une erreur est survenue : {e}\")\n",
        "\n",
        "if __name__ == \"__main__\":\n",
        "    main()\n"
      ]
    }
  ]
}