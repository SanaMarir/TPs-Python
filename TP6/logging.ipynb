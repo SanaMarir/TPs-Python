{
  "nbformat": 4,
  "nbformat_minor": 0,
  "metadata": {
    "colab": {
      "provenance": []
    },
    "kernelspec": {
      "name": "python3",
      "display_name": "Python 3"
    },
    "language_info": {
      "name": "python"
    }
  },
  "cells": [
    {
      "cell_type": "markdown",
      "source": [
        "# Exercice 7 : Journalisation des Exceptions\n",
        "## **Le module `logging`**"
      ],
      "metadata": {
        "id": "KDJ2yQPYySDP"
      }
    },
    {
      "cell_type": "code",
      "execution_count": 3,
      "metadata": {
        "id": "T_O4PfyFyL6b"
      },
      "outputs": [],
      "source": [
        "import logging\n",
        "\n",
        "# Configuration du journalisation\n",
        "logging.basicConfig(\n",
        "    filename='error.log',  # Nom du fichier log\n",
        "    level=logging.ERROR,   # seulement les erreurs qui seront enregistrés\n",
        "    format='%(asctime)s - %(levelname)s - %(message)s' # Format des messages\n",
        ")\n",
        "\n",
        "def log_error(message):\n",
        "    logging.error(message) #Enregistre un message d'erreur dans le fichier log\n"
      ]
    }
  ]
}