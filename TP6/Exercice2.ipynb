{
  "nbformat": 4,
  "nbformat_minor": 0,
  "metadata": {
    "colab": {
      "provenance": []
    },
    "kernelspec": {
      "name": "python3",
      "display_name": "Python 3"
    },
    "language_info": {
      "name": "python"
    }
  },
  "cells": [
    {
      "cell_type": "markdown",
      "source": [
        "# Exercice 2 : Vérification de Type"
      ],
      "metadata": {
        "id": "aY5XWsyiWMP1"
      }
    },
    {
      "cell_type": "code",
      "execution_count": 27,
      "metadata": {
        "id": "lW_zB5jeWCXs",
        "colab": {
          "base_uri": "https://localhost:8080/"
        },
        "outputId": "56a273d5-2ac1-4a4e-bab7-2766e1839209"
      },
      "outputs": [
        {
          "output_type": "stream",
          "name": "stdout",
          "text": [
            "Conversion réussie : '1' est converti en entier.\n",
            "Erreur de conversion : 'abc' n'est pas convertible en entier.\n"
          ]
        }
      ],
      "source": [
        "def convert_to_int(value):\n",
        "    try:\n",
        "        value = int(value)\n",
        "        print(f\"Conversion réussie : '{value}' est converti en entier.\")\n",
        "    except ValueError:\n",
        "       print(f\"Erreur de conversion : '{value}' n'est pas convertible en entier.\")\n",
        "# Test\n",
        "convert_to_int(\"1\")\n",
        "convert_to_int(\"abc\")"
      ]
    }
  ]
}