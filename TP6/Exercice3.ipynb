{
  "nbformat": 4,
  "nbformat_minor": 0,
  "metadata": {
    "colab": {
      "provenance": []
    },
    "kernelspec": {
      "name": "python3",
      "display_name": "Python 3"
    },
    "language_info": {
      "name": "python"
    }
  },
  "cells": [
    {
      "cell_type": "markdown",
      "source": [
        "# Exercice 3 : Lecture de Fichier"
      ],
      "metadata": {
        "id": "aY5XWsyiWMP1"
      }
    },
    {
      "cell_type": "code",
      "execution_count": 37,
      "metadata": {
        "id": "lW_zB5jeWCXs",
        "colab": {
          "base_uri": "https://localhost:8080/"
        },
        "outputId": "4c7cda51-08fe-4888-b14b-2c78856e1d2b"
      },
      "outputs": [
        {
          "output_type": "stream",
          "name": "stdout",
          "text": [
            "Le fichier n'existe pas\n"
          ]
        }
      ],
      "source": [
        "def read_file(filename):\n",
        "  file = None\n",
        "  try:\n",
        "    file = open(filename, \"r\")\n",
        "    lines = file.readlines()\n",
        "    return lines\n",
        "  except FileNotFoundError:\n",
        "    print(\"Le fichier n'existe pas\")\n",
        "  finally:\n",
        "    if file:\n",
        "     file.close()\n",
        "\n",
        "#Test\n",
        "filename = \"exemple.txt\"\n",
        "read_file(filename)"
      ]
    }
  ]
}