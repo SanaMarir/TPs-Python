{
  "nbformat": 4,
  "nbformat_minor": 0,
  "metadata": {
    "colab": {
      "provenance": []
    },
    "kernelspec": {
      "name": "python3",
      "display_name": "Python 3"
    },
    "language_info": {
      "name": "python"
    }
  },
  "cells": [
    {
      "cell_type": "markdown",
      "source": [
        "# Exercice 9 : Gestion des Exceptions dans les Boucles\n"
      ],
      "metadata": {
        "id": "aIaN8Nd0Rk-p"
      }
    },
    {
      "cell_type": "code",
      "execution_count": 2,
      "metadata": {
        "id": "sCjH2xLKRh-U"
      },
      "outputs": [],
      "source": [
        "def get_positive_integer():\n",
        "    while True:\n",
        "        try:\n",
        "            user_input = int(input(\"Entrez un entier positif : \"))\n",
        "            if user_input < 0:\n",
        "                raise ValueError(\"Le nombre doit être positif.\")\n",
        "            return user_input\n",
        "        except ValueError as e:\n",
        "            print(f\"Erreur : {e}. Essayez encore.\")\n"
      ]
    }
  ]
}