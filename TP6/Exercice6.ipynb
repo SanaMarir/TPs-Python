{
  "nbformat": 4,
  "nbformat_minor": 0,
  "metadata": {
    "colab": {
      "provenance": []
    },
    "kernelspec": {
      "name": "python3",
      "display_name": "Python 3"
    },
    "language_info": {
      "name": "python"
    }
  },
  "cells": [
    {
      "cell_type": "markdown",
      "source": [
        "# Exercice 6 : Utilisation de `else` et `finally`\n"
      ],
      "metadata": {
        "id": "aY5XWsyiWMP1"
      }
    },
    {
      "cell_type": "code",
      "execution_count": 46,
      "metadata": {
        "id": "lW_zB5jeWCXs",
        "colab": {
          "base_uri": "https://localhost:8080/"
        },
        "outputId": "438a9d2b-4a8d-4166-a2d3-62b427774ad1"
      },
      "outputs": [
        {
          "output_type": "stream",
          "name": "stdout",
          "text": [
            "Division réussie.\n",
            "Fin de la division.\n",
            "5.0\n",
            "Erreur : Division par zéro.\n",
            "Fin de la division.\n",
            "None\n"
          ]
        }
      ],
      "source": [
        "def safe_division(a, b):\n",
        "    try:\n",
        "        result = a / b\n",
        "    except ZeroDivisionError:\n",
        "        print(\"Erreur : Division par zéro.\")\n",
        "        return None\n",
        "    else:\n",
        "        print(\"Division réussie.\")\n",
        "        return result\n",
        "    finally:\n",
        "        print(\"Fin de la division.\")\n",
        "    return result\n",
        "\n",
        "#Test\n",
        "print(safe_division(10, 2))\n",
        "print(safe_division(10, 0))"
      ]
    }
  ]
}