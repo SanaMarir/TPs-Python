{
  "nbformat": 4,
  "nbformat_minor": 0,
  "metadata": {
    "colab": {
      "provenance": []
    },
    "kernelspec": {
      "name": "python3",
      "display_name": "Python 3"
    },
    "language_info": {
      "name": "python"
    }
  },
  "cells": [
    {
      "cell_type": "markdown",
      "source": [
        "# Exercice 1 : Division par Zéro"
      ],
      "metadata": {
        "id": "aY5XWsyiWMP1"
      }
    },
    {
      "cell_type": "code",
      "execution_count": 15,
      "metadata": {
        "id": "lW_zB5jeWCXs",
        "colab": {
          "base_uri": "https://localhost:8080/"
        },
        "outputId": "47feec63-ccf3-4399-8c8c-143052a472d0"
      },
      "outputs": [
        {
          "output_type": "stream",
          "name": "stdout",
          "text": [
            "Erreur : Division par zéro.\n",
            "10 / 2 = 5.0\n"
          ]
        }
      ],
      "source": [
        "def safe_division(a, b):\n",
        "    try:\n",
        "        result = a / b\n",
        "        print(f\"{a} / {b} = {result}\")\n",
        "    except ZeroDivisionError:\n",
        "        print(\"Erreur : Division par zéro.\")\n",
        "        result = None\n",
        "    return result\n",
        "\n",
        "# Test\n",
        "result = safe_division(10, 0)\n",
        "result = safe_division(10, 2)"
      ]
    }
  ]
}