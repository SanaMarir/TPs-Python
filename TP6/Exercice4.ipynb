{
  "nbformat": 4,
  "nbformat_minor": 0,
  "metadata": {
    "colab": {
      "provenance": []
    },
    "kernelspec": {
      "name": "python3",
      "display_name": "Python 3"
    },
    "language_info": {
      "name": "python"
    }
  },
  "cells": [
    {
      "cell_type": "markdown",
      "source": [
        "# Exercice 4 : Exceptions Personnalisées"
      ],
      "metadata": {
        "id": "aY5XWsyiWMP1"
      }
    },
    {
      "cell_type": "code",
      "execution_count": 42,
      "metadata": {
        "id": "lW_zB5jeWCXs",
        "colab": {
          "base_uri": "https://localhost:8080/"
        },
        "outputId": "0b349de9-8397-4110-8ae7-eac2edb8a569"
      },
      "outputs": [
        {
          "output_type": "stream",
          "name": "stdout",
          "text": [
            "L'age est valide\n",
            "L'age ne peut pas être négatif\n"
          ]
        }
      ],
      "source": [
        "class AgeInvalide(Exception):\n",
        "    pass\n",
        "def set_age(age):\n",
        "  if age < 0:\n",
        "    raise AgeInvalide(\"L'age ne peut pas être négatif\")\n",
        "  else:\n",
        "    print(\"L'age est valide\")\n",
        "\n",
        "#Test\n",
        "try:\n",
        "  set_age(1)\n",
        "  set_age(-1)\n",
        "except AgeInvalide as e:\n",
        "  print(e)"
      ]
    }
  ]
}