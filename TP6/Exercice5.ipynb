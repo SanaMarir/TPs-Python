{
  "nbformat": 4,
  "nbformat_minor": 0,
  "metadata": {
    "colab": {
      "provenance": []
    },
    "kernelspec": {
      "name": "python3",
      "display_name": "Python 3"
    },
    "language_info": {
      "name": "python"
    }
  },
  "cells": [
    {
      "cell_type": "markdown",
      "source": [
        "# Exercice 5 : Multi-Exceptions"
      ],
      "metadata": {
        "id": "aY5XWsyiWMP1"
      }
    },
    {
      "cell_type": "code",
      "execution_count": 45,
      "metadata": {
        "id": "lW_zB5jeWCXs",
        "colab": {
          "base_uri": "https://localhost:8080/"
        },
        "outputId": "e2465ef7-5f5e-46d1-bb79-d11082b427fb"
      },
      "outputs": [
        {
          "output_type": "stream",
          "name": "stdout",
          "text": [
            "Erreur : Ce n'est pas un nombre valide\n",
            "Erreur : Division par 0\n"
          ]
        },
        {
          "output_type": "execute_result",
          "data": {
            "text/plain": [
              "5.0"
            ]
          },
          "metadata": {},
          "execution_count": 45
        }
      ],
      "source": [
        "def process_input(user_input):\n",
        "  try :\n",
        "    number = int(user_input)\n",
        "    result = 10 / user_input\n",
        "    return result\n",
        "  except ValueError:\n",
        "    print(\"Erreur : Ce n'est pas un nombre valide\")\n",
        "  except ZeroDivisionError:\n",
        "    print(\"Erreur : Division par 0\")\n",
        "\n",
        "#Test\n",
        "process_input(\"a\")\n",
        "process_input(0)\n",
        "process_input(2)"
      ]
    }
  ]
}