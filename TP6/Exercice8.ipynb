{
  "nbformat": 4,
  "nbformat_minor": 0,
  "metadata": {
    "colab": {
      "provenance": []
    },
    "kernelspec": {
      "name": "python3",
      "display_name": "Python 3"
    },
    "language_info": {
      "name": "python"
    }
  },
  "cells": [
    {
      "cell_type": "markdown",
      "source": [
        "# Exercice 8 : Tests Unitaires pour les Exceptions\n"
      ],
      "metadata": {
        "id": "aIaN8Nd0Rk-p"
      }
    },
    {
      "cell_type": "code",
      "execution_count": null,
      "metadata": {
        "id": "sCjH2xLKRh-U"
      },
      "outputs": [],
      "source": [
        "import unittest\n",
        "\n",
        "class TestExceptions(unittest.TestCase):\n",
        "    def test_safe_division(self):\n",
        "        with self.assertRaises(ZeroDivisionError):\n",
        "            safe_division(10, 0)\n",
        "\n",
        "    def test_convert_to_int(self):\n",
        "        with self.assertRaises(ValueError):\n",
        "            convert_to_int(\"abc\")\n",
        "\n",
        "    def test_set_age(self):\n",
        "        with self.assertRaises(NegativeAgeError):\n",
        "            set_age(-1)\n",
        "\n",
        "if __name__ == \"__main__\":\n",
        "    unittest.main()\n"
      ]
    }
  ]
}