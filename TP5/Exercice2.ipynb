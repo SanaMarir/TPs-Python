{
  "nbformat": 4,
  "nbformat_minor": 0,
  "metadata": {
    "colab": {
      "provenance": []
    },
    "kernelspec": {
      "name": "python3",
      "display_name": "Python 3"
    },
    "language_info": {
      "name": "python"
    }
  },
  "cells": [
    {
      "cell_type": "markdown",
      "source": [
        "# Exercice 2 : Écriture dans un Fichier"
      ],
      "metadata": {
        "id": "0AkDCKBUn3Ai"
      }
    },
    {
      "cell_type": "code",
      "execution_count": null,
      "metadata": {
        "id": "0i4OOqvuDObb"
      },
      "outputs": [],
      "source": [
        "# Demander à l'utilisateur d'entrer trois phrases\n",
        "phrases = []\n",
        "for i in range(1, 4):\n",
        "    phrase = input(f\"Entrez la phrase {i} : \")\n",
        "    phrases.append(phrase)\n",
        "\n",
        "# Enregistrer les phrases dans un fichier nommé \"exemple.txt\"\n",
        "with open(\"exemple.txt\", \"w\") as file:\n",
        "    for phrase in phrases:\n",
        "        file.write(phrase + \"\\n\")\n",
        "\n",
        "print(\"Les phrases ont été enregistrées \")\n",
        "\n"
      ]
    }
  ]
}