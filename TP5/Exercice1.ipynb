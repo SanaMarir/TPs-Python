{
  "nbformat": 4,
  "nbformat_minor": 0,
  "metadata": {
    "colab": {
      "provenance": []
    },
    "kernelspec": {
      "name": "python3",
      "display_name": "Python 3"
    },
    "language_info": {
      "name": "python"
    }
  },
  "cells": [
    {
      "cell_type": "markdown",
      "source": [
        "# Exercice 1 : Lecture de Fichiers"
      ],
      "metadata": {
        "id": "0AkDCKBUn3Ai"
      }
    },
    {
      "cell_type": "code",
      "execution_count": 4,
      "metadata": {
        "id": "0i4OOqvuDObb",
        "colab": {
          "base_uri": "https://localhost:8080/"
        },
        "outputId": "b44def70-c971-4fbb-e2d3-8b9295f104f6"
      },
      "outputs": [
        {
          "output_type": "stream",
          "name": "stdout",
          "text": [
            "1: hhsjdhfhdjskjhdjskcj\n",
            "2: jhdjkcjnbcj\n",
            "3: jhdbcbnhjshcg\n",
            "4: hdbchjncdjhgdbsnk\n",
            "5: kjhdgbjkxjhgbjuytrhgf\n"
          ]
        }
      ],
      "source": [
        "# Ouvrir et lire le fichier\n",
        "with open(\"exemple.txt\",\"r\") as fichier:\n",
        "  contenu = fichier.read()\n",
        "\n",
        "with open(\"exemple.txt\",\"r\") as fichier:\n",
        "  lignes = fichier.readlines()\n",
        "\n",
        "# Afficher chaque ligne avec son numéro\n",
        "  for i, line in enumerate(lignes, start=1):\n",
        "    print(f\"{i}: {line.strip()}\")"
      ]
    }
  ]
}