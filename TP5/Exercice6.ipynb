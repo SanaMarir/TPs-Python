{
  "nbformat": 4,
  "nbformat_minor": 0,
  "metadata": {
    "colab": {
      "provenance": []
    },
    "kernelspec": {
      "name": "python3",
      "display_name": "Python 3"
    },
    "language_info": {
      "name": "python"
    }
  },
  "cells": [
    {
      "cell_type": "markdown",
      "source": [
        "# Exercice 6 : Renommer et Supprimer des Fichiers"
      ],
      "metadata": {
        "id": "W1eOIpfuEXpB"
      }
    },
    {
      "cell_type": "code",
      "execution_count": 9,
      "metadata": {
        "colab": {
          "base_uri": "https://localhost:8080/",
          "height": 211
        },
        "id": "0fRTOuPXEAli",
        "outputId": "206f58b3-844f-4ce2-c18c-1a48cf060ee8"
      },
      "outputs": [
        {
          "output_type": "stream",
          "name": "stdout",
          "text": [
            "fichier non trouve\n"
          ]
        },
        {
          "output_type": "error",
          "ename": "FileNotFoundError",
          "evalue": "[Errno 2] No such file or directory: 'anciennes_phrases.txt'",
          "traceback": [
            "\u001b[0;31m---------------------------------------------------------------------------\u001b[0m",
            "\u001b[0;31mFileNotFoundError\u001b[0m                         Traceback (most recent call last)",
            "\u001b[0;32m<ipython-input-9-0047a78a4f97>\u001b[0m in \u001b[0;36m<cell line: 14>\u001b[0;34m()\u001b[0m\n\u001b[1;32m     12\u001b[0m \u001b[0;34m\u001b[0m\u001b[0m\n\u001b[1;32m     13\u001b[0m \u001b[0;31m# Supprimer le fichier renommé\u001b[0m\u001b[0;34m\u001b[0m\u001b[0;34m\u001b[0m\u001b[0m\n\u001b[0;32m---> 14\u001b[0;31m \u001b[0mos\u001b[0m\u001b[0;34m.\u001b[0m\u001b[0mremove\u001b[0m\u001b[0;34m(\u001b[0m\u001b[0;34m\"anciennes_phrases.txt\"\u001b[0m\u001b[0;34m)\u001b[0m\u001b[0;34m\u001b[0m\u001b[0;34m\u001b[0m\u001b[0m\n\u001b[0m\u001b[1;32m     15\u001b[0m \u001b[0mprint\u001b[0m\u001b[0;34m(\u001b[0m\u001b[0;34m\"Le fichier  a été supprimé.\"\u001b[0m\u001b[0;34m)\u001b[0m\u001b[0;34m\u001b[0m\u001b[0;34m\u001b[0m\u001b[0m\n",
            "\u001b[0;31mFileNotFoundError\u001b[0m: [Errno 2] No such file or directory: 'anciennes_phrases.txt'"
          ]
        }
      ],
      "source": [
        "import os\n",
        "\n",
        "# Renommer le fichier\n",
        "ancien_nom = \"phrases.txt\"\n",
        "nouveau_nom = \"anciennes_phrases.txt\"\n",
        "\n",
        "try:\n",
        "    os.rename(ancien_nom, nouveau_nom)\n",
        "    print(f\"Le fichier a été renommé en 'anciennes_phrases.txt'\")\n",
        "except FileNotFoundError:\n",
        "    print(\"fichier non trouve\")\n",
        "\n",
        "# Supprimer le fichier renommé\n",
        "os.remove(\"anciennes_phrases.txt\")\n",
        "print(\"Le fichier  a été supprimé.\")"
      ]
    }
  ]
}