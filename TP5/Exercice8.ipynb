{
  "nbformat": 4,
  "nbformat_minor": 0,
  "metadata": {
    "colab": {
      "provenance": []
    },
    "kernelspec": {
      "name": "python3",
      "display_name": "Python 3"
    },
    "language_info": {
      "name": "python"
    }
  },
  "cells": [
    {
      "cell_type": "markdown",
      "source": [
        "# Exercice 8 : Gestion des Erreurs"
      ],
      "metadata": {
        "id": "W1eOIpfuEXpB"
      }
    },
    {
      "cell_type": "code",
      "execution_count": 12,
      "metadata": {
        "colab": {
          "base_uri": "https://localhost:8080/"
        },
        "id": "0fRTOuPXEAli",
        "outputId": "0331ee13-600d-4388-9fed-69b8aa568688"
      },
      "outputs": [
        {
          "output_type": "stream",
          "name": "stdout",
          "text": [
            "Erreur : Le fichier 'inexistant.txt' n'existe pas.\n"
          ]
        }
      ],
      "source": [
        "try:\n",
        "    # Tentative d'ouverture du fichier \"inexistant.txt\" en mode lecture\n",
        "    with open(\"inexistant.txt\", \"r\") as file:\n",
        "        contenu = file.read()\n",
        "        print(\"Contenu du fichier :\")\n",
        "        print(contenu)\n",
        "except FileNotFoundError:\n",
        "    # Gestion de l'erreur si le fichier n'existe pas\n",
        "    print(\"Erreur : Le fichier 'inexistant.txt' n'existe pas.\")\n"
      ]
    }
  ]
}