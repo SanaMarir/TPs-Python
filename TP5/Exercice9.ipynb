{
  "nbformat": 4,
  "nbformat_minor": 0,
  "metadata": {
    "colab": {
      "provenance": []
    },
    "kernelspec": {
      "name": "python3",
      "display_name": "Python 3"
    },
    "language_info": {
      "name": "python"
    }
  },
  "cells": [
    {
      "cell_type": "markdown",
      "source": [
        "# Exercice 9 : Statistiques de Fichier"
      ],
      "metadata": {
        "id": "W1eOIpfuEXpB"
      }
    },
    {
      "cell_type": "code",
      "execution_count": 13,
      "metadata": {
        "colab": {
          "base_uri": "https://localhost:8080/"
        },
        "id": "0fRTOuPXEAli",
        "outputId": "051de65a-d059-4798-e245-bb367cc883c1"
      },
      "outputs": [
        {
          "output_type": "stream",
          "name": "stdout",
          "text": [
            "Statistiques du fichier 'journal.txt':\n",
            "- Nombre total de lignes : 3\n",
            "- Nombre total de mots : 3\n",
            "- Nombre total de caractères : 99\n"
          ]
        }
      ],
      "source": [
        "def calculer_statistiques():\n",
        "    try:\n",
        "        # Lire le contenu du fichier\n",
        "        with open(\"journal.txt\", \"r\") as file:\n",
        "            contenu = file.readlines()\n",
        "\n",
        "        # Calculer le nombre de lignes\n",
        "        nombre_lignes = len(contenu)\n",
        "\n",
        "        # Calculer le nombre total de mots et de caractères\n",
        "        nombre_mots = 0\n",
        "        nombre_caracteres = 0\n",
        "        for ligne in contenu:\n",
        "            nombre_mots += len(ligne.split())\n",
        "            nombre_caracteres += len(ligne)\n",
        "\n",
        "        # Afficher les statistiques\n",
        "        print(f\"Statistiques du fichier '{'journal.txt'}':\")\n",
        "        print(f\"- Nombre total de lignes : {nombre_lignes}\")\n",
        "        print(f\"- Nombre total de mots : {nombre_mots}\")\n",
        "        print(f\"- Nombre total de caractères : {nombre_caracteres}\")\n",
        "    except FileNotFoundError:\n",
        "        print(f\"Erreur : Le fichier '{'journal.txt'}' n'existe pas.\")\n",
        "    except Exception as e:\n",
        "        print(f\"Une erreur est survenue : {e}\")\n",
        "\n",
        "# Demander le nom du fichier à analyser\n",
        "calculer_statistiques()\n"
      ]
    }
  ]
}