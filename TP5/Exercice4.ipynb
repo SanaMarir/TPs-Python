{
  "nbformat": 4,
  "nbformat_minor": 0,
  "metadata": {
    "colab": {
      "provenance": []
    },
    "kernelspec": {
      "name": "python3",
      "display_name": "Python 3"
    },
    "language_info": {
      "name": "python"
    }
  },
  "cells": [
    {
      "cell_type": "markdown",
      "source": [
        "# Exercice 4 : Traitement de Fichiers CSV"
      ],
      "metadata": {
        "id": "W1eOIpfuEXpB"
      }
    },
    {
      "cell_type": "code",
      "execution_count": 1,
      "metadata": {
        "colab": {
          "base_uri": "https://localhost:8080/"
        },
        "id": "0fRTOuPXEAli",
        "outputId": "d7f366ba-3298-4d12-fd73-3c80bf74a017"
      },
      "outputs": [
        {
          "output_type": "stream",
          "name": "stdout",
          "text": [
            "Nom : Alice, Âge : 30, Ville : Paris\n",
            "Nom : bob, Âge : 25, Ville : Lyon\n"
          ]
        }
      ],
      "source": [
        "import csv\n",
        "\n",
        "donnees = [\n",
        "    [\"nom\", \"age\", \"ville\" ],\n",
        "    [\"Alice\", 30, \"Paris\" ],\n",
        "    [\"bob\", 25, \"Lyon\" ]\n",
        "]\n",
        "with open(\"contacts.csv\", \"w\", newline=\"\") as file:\n",
        "    writer = csv.writer(file)\n",
        "    writer.writerows(donnees)\n",
        "\n",
        "with open(\"contacts.csv\", \"r\") as file:\n",
        "        reader = csv.DictReader(file)  # Utilisation de DictReader pour un accès facile par colonnes\n",
        "        for row in reader:\n",
        "            # Afficher les informations de chaque contact\n",
        "            print(f\"Nom : {row['nom']}, Âge : {row['age']}, Ville : {row['ville']}\")"
      ]
    }
  ]
}