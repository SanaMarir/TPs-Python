{
  "nbformat": 4,
  "nbformat_minor": 0,
  "metadata": {
    "colab": {
      "provenance": []
    },
    "kernelspec": {
      "name": "python3",
      "display_name": "Python 3"
    },
    "language_info": {
      "name": "python"
    }
  },
  "cells": [
    {
      "cell_type": "markdown",
      "source": [
        "# Exercice 5 : Écriture et Lecture de Fichiers JSON"
      ],
      "metadata": {
        "id": "W1eOIpfuEXpB"
      }
    },
    {
      "cell_type": "code",
      "execution_count": 2,
      "metadata": {
        "colab": {
          "base_uri": "https://localhost:8080/"
        },
        "id": "0fRTOuPXEAli",
        "outputId": "0b3e3851-75d6-4161-fe8d-60e4883be726"
      },
      "outputs": [
        {
          "output_type": "stream",
          "name": "stdout",
          "text": [
            "Les informations des étudiants ont été bien enregistrées\n",
            "{'etudiants': [{'nom': 'Alice', 'age': 20, 'note': 15.5}, {'nom': 'Bob', 'age': 22, 'note': 17.0}, {'nom': 'Charlie', 'age': 19, 'note': 14.0}]}\n"
          ]
        }
      ],
      "source": [
        "import json\n",
        "\n",
        "# Créer un dictionnaire avec des informations sur trois étudiants\n",
        "etudiants = {\n",
        "    \"etudiants\": [\n",
        "        {\"nom\": \"Alice\", \"age\": 20, \"note\": 15.5},\n",
        "        {\"nom\": \"Bob\", \"age\": 22, \"note\": 17.0},\n",
        "        {\"nom\": \"Charlie\", \"age\": 19, \"note\": 14.0}\n",
        "    ]\n",
        "}\n",
        "\n",
        "with open(\"etudiants.json\", \"w\") as file:\n",
        "    json.dump(etudiants, file, indent=4)  # indent=4 pour une mise en forme lisible\n",
        "    print(\"Les informations des étudiants ont été bien enregistrées\")\n",
        "\n",
        "with open(\"etudiants.json\", \"r\") as file:\n",
        "    donnees = json.load(file)\n",
        "    print(donnees)"
      ]
    }
  ]
}