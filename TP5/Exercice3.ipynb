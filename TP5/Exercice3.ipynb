{
  "nbformat": 4,
  "nbformat_minor": 0,
  "metadata": {
    "colab": {
      "provenance": []
    },
    "kernelspec": {
      "name": "python3",
      "display_name": "Python 3"
    },
    "language_info": {
      "name": "python"
    }
  },
  "cells": [
    {
      "cell_type": "markdown",
      "source": [
        "# Exercice 3 : Ajout à un Fichier"
      ],
      "metadata": {
        "id": "0AkDCKBUn3Ai"
      }
    },
    {
      "cell_type": "code",
      "execution_count": 7,
      "metadata": {
        "id": "0i4OOqvuDObb",
        "colab": {
          "base_uri": "https://localhost:8080/"
        },
        "outputId": "b37bd71b-48dc-4df2-8ae0-c8543a940f60"
      },
      "outputs": [
        {
          "output_type": "stream",
          "name": "stdout",
          "text": [
            "Entrez la phrase 1 : Heyy\n",
            "Entrez la phrase 2 : there\n",
            "Les phrases initiales ont été enregistrées dans le fichier 'exemple.txt'.\n",
            "Souhaitez-vous ajouter d'autres phrases ? (oui/non) : oui\n",
            "Entrez une phrase à ajouter (ou appuyez sur Entrée pour arrêter) : hdsnxsjzs\n",
            "La phrase a été ajoutée avec succès !\n",
            "Entrez une phrase à ajouter (ou appuyez sur Entrée pour arrêter) : sbdcd\n",
            "La phrase a été ajoutée avec succès !\n",
            "Entrez une phrase à ajouter (ou appuyez sur Entrée pour arrêter) : \n",
            "Opération terminée.\n"
          ]
        }
      ],
      "source": [
        "def ajouter_phrases():\n",
        "    while True:\n",
        "        # Permettre à l'utilisateur d'arrêter avec une saisie vide\n",
        "        phrase = input(\"Entrez une phrase à ajouter (ou appuyez sur Entrée pour arrêter) : \")\n",
        "        if not phrase:  # Si l'utilisateur n'entre rien, on arrête la boucle\n",
        "            break\n",
        "        with open(\"exemple.txt\", \"a\") as file:\n",
        "            file.write(phrase + \"\\n\")\n",
        "        print(\"La phrase a été ajoutée avec succès !\")\n",
        "\n",
        "# Étape 1 : Saisir les trois phrases initiales\n",
        "phrases = []\n",
        "for i in range(1, 3):\n",
        "    phrase = input(f\"Entrez la phrase {i} : \")\n",
        "    phrases.append(phrase)\n",
        "\n",
        "# Enregistrer les phrases initiales dans le fichier\n",
        "with open(\"exemple.txt\", \"w\") as file:\n",
        "    for phrase in phrases:\n",
        "        file.write(phrase + \"\\n\")\n",
        "\n",
        "print(\"Les phrases initiales ont été enregistrées dans le fichier 'exemple.txt'.\")\n",
        "\n",
        "# Étape 2 : Demander si l'utilisateur souhaite ajouter d'autres phrases\n",
        "reponse = input(\"Souhaitez-vous ajouter d'autres phrases ? (oui/non) : \").strip().lower()\n",
        "if reponse == \"oui\":\n",
        "    ajouter_phrases()\n",
        "\n",
        "print(\"Opération terminée.\")\n",
        "\n"
      ]
    }
  ]
}