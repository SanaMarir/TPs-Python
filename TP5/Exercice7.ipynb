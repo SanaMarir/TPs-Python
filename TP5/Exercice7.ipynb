{
  "nbformat": 4,
  "nbformat_minor": 0,
  "metadata": {
    "colab": {
      "provenance": []
    },
    "kernelspec": {
      "name": "python3",
      "display_name": "Python 3"
    },
    "language_info": {
      "name": "python"
    }
  },
  "cells": [
    {
      "cell_type": "markdown",
      "source": [
        "# Exercice 7 : Copie et Déplacement de Fichiers"
      ],
      "metadata": {
        "id": "W1eOIpfuEXpB"
      }
    },
    {
      "cell_type": "code",
      "execution_count": 10,
      "metadata": {
        "colab": {
          "base_uri": "https://localhost:8080/"
        },
        "id": "0fRTOuPXEAli",
        "outputId": "1d47e51e-df1e-4d02-9ada-625ff63e56ff"
      },
      "outputs": [
        {
          "output_type": "stream",
          "name": "stdout",
          "text": [
            "Le fichier 'journal.txt' a été créé.\n",
            "Le fichier 'journal.txt' a été copié en 'journal_copie.txt'.\n",
            "Le dossier 'archives' a été créé.\n",
            "Le fichier 'journal_copie.txt' a été déplacé dans le dossier 'archives'.\n"
          ]
        }
      ],
      "source": [
        "import shutil\n",
        "# Créer un fichier \"journal.txt\" et y ajouter quelques lignes de texte\n",
        "with open(\"journal.txt\", \"w\") as file:\n",
        "    file.write(\"aaaaaaaaaaaaaaaaaaaaaaaaaaaaaaaa\\n\")\n",
        "    file.write(\"bbbbbbbbbbbbbbbbbbbbbbbbbbbbbbbb\\n\")\n",
        "    file.write(\"cccccccccccccccccccccccccccccccc\\n\")\n",
        "    print(\"Le fichier 'journal.txt' a été créé.\")\n",
        "\n",
        "# Copier \"journal.txt\" dans un nouveau fichier \"journal_copie.txt\"\n",
        "source = \"journal.txt\"\n",
        "destination = \"journal_copie.txt\"\n",
        "try:\n",
        "    shutil.copy(source, destination)\n",
        "    print(\"Le fichier 'journal.txt' a été copié en 'journal_copie.txt'.\")\n",
        "except FileNotFoundError:\n",
        "    print(\"fichier non trouve\")\n",
        "\n",
        "# Créer un dossier \"archives\" s'il n'existe pas déjà\n",
        "os.makedirs(\"archives\")\n",
        "print(\"Le dossier 'archives' a été créé.\")\n",
        "\n",
        "# Déplacer \"journal_copie.txt\" dans le dossier \"archives\"\n",
        "source = \"journal_copie.txt\"\n",
        "destination = \"archives/journal_copie.txt\"\n",
        "try:\n",
        "    shutil.move(source, destination)\n",
        "    print(\"Le fichier 'journal_copie.txt' a été déplacé dans le dossier 'archives'.\")\n",
        "except FileNotFoundError:\n",
        "    print(\"fichier non trouve\")\n"
      ]
    }
  ]
}