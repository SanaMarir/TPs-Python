{
  "nbformat": 4,
  "nbformat_minor": 0,
  "metadata": {
    "colab": {
      "provenance": []
    },
    "kernelspec": {
      "name": "python3",
      "display_name": "Python 3"
    },
    "language_info": {
      "name": "python"
    }
  },
  "cells": [
    {
      "cell_type": "markdown",
      "source": [
        "# Exercice : Système de Gestion de Transport :\n",
        "\n",
        "\n",
        "\n",
        "\n"
      ],
      "metadata": {
        "id": "CfOoeU_cTUPd"
      }
    },
    {
      "cell_type": "code",
      "execution_count": 1,
      "metadata": {
        "colab": {
          "base_uri": "https://localhost:8080/"
        },
        "id": "CRFW-AGPTOYd",
        "outputId": "12c68680-9608-4336-a370-7c8888c20d2e"
      },
      "outputs": [
        {
          "output_type": "stream",
          "name": "stdout",
          "text": [
            "Informations sur la voiture :\n",
            "Véhicule : mercedes classe c (2020)\n",
            "Moteur : 300 chevaux, Type : Diesel\n",
            "Nombre de places : 5\n",
            "\n",
            "Informations sur la moto :\n",
            "Véhicule : Kawasaki Ninja ZX-10R (2022)\n",
            "Moteur : 200 chevaux, Type : Essence\n",
            "Type de moto : Sport\n"
          ]
        }
      ],
      "source": [
        "class Vehicule:\n",
        "    def __init__(self, marque, modele, annee):\n",
        "        self.marque = marque\n",
        "        self.modele = modele\n",
        "        self.annee = annee\n",
        "\n",
        "    def afficher_info(self):\n",
        "        print(f\"Véhicule : {self.marque} {self.modele} ({self.annee})\")\n",
        "\n",
        "class Moteur:\n",
        "    def __init__(self, puissance, type_moteur):\n",
        "        self.puissance = puissance\n",
        "        self.type_moteur = type_moteur\n",
        "\n",
        "    def afficher_moteur(self):\n",
        "        print(f\"Moteur : {self.puissance} chevaux, Type : {self.type_moteur}\")\n",
        "\n",
        "class Voiture(Vehicule, Moteur):\n",
        "    def __init__(self, marque, modele, annee, puissance, type_moteur, nombre_de_places):\n",
        "        Vehicule.__init__(self, marque, modele, annee)\n",
        "        Moteur.__init__(self, puissance, type_moteur)\n",
        "        self.nombre_de_places = nombre_de_places\n",
        "\n",
        "    def afficher_info(self):\n",
        "        super().afficher_info()\n",
        "        self.afficher_moteur()\n",
        "        print(f\"Nombre de places : {self.nombre_de_places}\")\n",
        "\n",
        "class Moto(Vehicule, Moteur):\n",
        "    def __init__(self, marque, modele, annee, puissance, type_moteur, type_moto):\n",
        "        Vehicule.__init__(self, marque, modele, annee)\n",
        "        Moteur.__init__(self, puissance, type_moteur)\n",
        "        self.type_moto = type_moto\n",
        "\n",
        "    def afficher_info(self):\n",
        "        super().afficher_info()\n",
        "        self.afficher_moteur()\n",
        "        print(f\"Type de moto : {self.type_moto}\")\n",
        "# Création d'une instance de Voiture\n",
        "voiture = Voiture(\n",
        "    marque=\"mercedes\",\n",
        "    modele=\"classe c\",\n",
        "    annee=2020,\n",
        "    puissance=300,\n",
        "    type_moteur=\"Diesel\",\n",
        "    nombre_de_places=5\n",
        ")\n",
        "\n",
        "# Création d'une instance de Moto\n",
        "moto = Moto(\n",
        "    marque=\"Kawasaki\",\n",
        "    modele=\"Ninja ZX-10R\",\n",
        "    annee=2022,\n",
        "    puissance=200,\n",
        "    type_moteur=\"Essence\",\n",
        "    type_moto=\"Sport\"\n",
        ")\n",
        "\n",
        "# Affichage des informations\n",
        "print(\"Informations sur la voiture :\")\n",
        "voiture.afficher_info()\n",
        "\n",
        "print(\"\\nInformations sur la moto :\")\n",
        "moto.afficher_info()\n",
        "\n",
        "\n"
      ]
    }
  ]
}